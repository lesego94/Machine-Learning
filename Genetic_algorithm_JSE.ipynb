{
  "cells": [
    {
      "cell_type": "markdown",
      "metadata": {
        "id": "view-in-github",
        "colab_type": "text"
      },
      "source": [
        "<a href=\"https://colab.research.google.com/github/lesego94/Machine-Learning/blob/main/Genetic_algorithm_JSE.ipynb\" target=\"_parent\"><img src=\"https://colab.research.google.com/assets/colab-badge.svg\" alt=\"Open In Colab\"/></a>"
      ]
    },
    {
      "cell_type": "markdown",
      "metadata": {
        "id": "-ENjUrOuKdQs"
      },
      "source": [
        ""
      ]
    },
    {
      "cell_type": "markdown",
      "metadata": {
        "deletable": false,
        "editable": false,
        "nbgrader": {
          "cell_type": "markdown",
          "checksum": "9b28162f36ee9d743c2084b22d36a586",
          "grade": false,
          "grade_id": "cell-c98274c610c27674",
          "locked": true,
          "schema_version": 3,
          "solution": false,
          "task": false
        },
        "id": "YfuGbK06KdQ0"
      },
      "source": [
        "\n",
        "Genetic Algorithm and the JSE\n",
        "\n",
        "Data is from [https://github.com/dsfsi/dsfsi-datasets](https://github.com/dsfsi/dsfsi-datasets)"
      ]
    },
    {
      "cell_type": "code",
      "execution_count": 2,
      "metadata": {
        "deletable": false,
        "editable": false,
        "nbgrader": {
          "cell_type": "code",
          "checksum": "b4b63ce4bca3911f2013513e760ae778",
          "grade": false,
          "grade_id": "cell-7e08b7ad8521a206",
          "locked": true,
          "schema_version": 3,
          "solution": false,
          "task": false
        },
        "id": "KCZIEWjjKdQ1"
      },
      "outputs": [],
      "source": [
        "import numpy as np\n",
        "import pandas as pd\n",
        "import matplotlib.pyplot as plt\n",
        "import random\n",
        "from random import sample"
      ]
    },
    {
      "cell_type": "code",
      "execution_count": 3,
      "metadata": {
        "deletable": false,
        "editable": false,
        "nbgrader": {
          "cell_type": "code",
          "checksum": "e966835aac9aed10cad50bdf6f94ca68",
          "grade": false,
          "grade_id": "cell-7c302d8a01bc799b",
          "locked": true,
          "schema_version": 3,
          "solution": false,
          "task": false
        },
        "id": "7WNuXoYMKdQ1"
      },
      "outputs": [],
      "source": [
        "import os\n",
        "import urllib.request\n",
        "\n",
        "filename = \"top40_jse_2022_performance.csv\"\n",
        "if not os.path.isfile(filename):\n",
        "    url = \"https://raw.githubusercontent.com/dsfsi/dsfsi-datasets/master/data/stocks/top40_jse_2022_performance.csv\"\n",
        "    urllib.request.urlretrieve(url, filename)"
      ]
    },
    {
      "cell_type": "code",
      "execution_count": 4,
      "metadata": {
        "deletable": false,
        "editable": false,
        "nbgrader": {
          "cell_type": "code",
          "checksum": "8595292ab887c58f8a8b775e055b4aaf",
          "grade": false,
          "grade_id": "cell-3eb0e993993a4827",
          "locked": true,
          "schema_version": 3,
          "solution": false,
          "task": false
        },
        "id": "lNcxU_-bKdQ2",
        "outputId": "1bd55337-ed92-46a0-d046-76589cb5f344",
        "colab": {
          "base_uri": "https://localhost:8080/",
          "height": 418
        }
      },
      "outputs": [
        {
          "output_type": "execute_result",
          "data": {
            "text/plain": [
              "                 PRX       ANH       NPN      BTI     GLN      CFR      BHG  \\\n",
              "Date                                                                          \n",
              "2022-01-03  131583.0   99655.0  251152.0  59140.0  8126.0  23792.0  48958.0   \n",
              "2022-01-04  133844.0  102603.0  257250.0  60300.0  8429.0  24520.0  48839.0   \n",
              "2022-01-05  129547.0  100445.0  248359.0  59821.0  8369.0  24437.0  49892.0   \n",
              "2022-01-06  124912.0   98505.0  239529.0  60300.0  8266.0  23944.0  50520.0   \n",
              "2022-01-07  126200.0   97600.0  238904.0  59440.0  8373.0  23428.0  51228.0   \n",
              "\n",
              "                AGL       AMS     FSR  ...     PPH     OMU      BVT      CLS  \\\n",
              "Date                                   ...                                     \n",
              "2022-01-03  64497.0  180356.0  6142.0  ...  2205.0  1328.0  19076.0  31931.0   \n",
              "2022-01-04  67220.0  185807.0  6155.0  ...  2247.0  1368.0  19000.0  31919.0   \n",
              "2022-01-05  67774.0  186215.0  6262.0  ...  2275.0  1366.0  18990.0  31821.0   \n",
              "2022-01-06  67439.0  184615.0  6275.0  ...  2275.0  1360.0  18912.0  31511.0   \n",
              "2022-01-07  68635.0  183451.0  6293.0  ...  2290.0  1358.0  18960.0  31250.0   \n",
              "\n",
              "                REM      MCG      MRP      ARI     WHL      EXX  \n",
              "Date                                                             \n",
              "2022-01-03  13214.0  12186.0  20033.0  22775.0  5206.0  15530.0  \n",
              "2022-01-04  13288.0  12028.0  20115.0  23619.0  5239.0  15984.0  \n",
              "2022-01-05  13370.0  12336.0  20040.0  24350.0  5239.0  16371.0  \n",
              "2022-01-06  13301.0  12240.0  20000.0  23878.0  5217.0  16287.0  \n",
              "2022-01-07  13157.0  12009.0  19830.0  23815.0  5230.0  16167.0  \n",
              "\n",
              "[5 rows x 40 columns]"
            ],
            "text/html": [
              "\n",
              "  <div id=\"df-f3dbd031-2fb4-4e10-9d9f-274a2cdca5e6\">\n",
              "    <div class=\"colab-df-container\">\n",
              "      <div>\n",
              "<style scoped>\n",
              "    .dataframe tbody tr th:only-of-type {\n",
              "        vertical-align: middle;\n",
              "    }\n",
              "\n",
              "    .dataframe tbody tr th {\n",
              "        vertical-align: top;\n",
              "    }\n",
              "\n",
              "    .dataframe thead th {\n",
              "        text-align: right;\n",
              "    }\n",
              "</style>\n",
              "<table border=\"1\" class=\"dataframe\">\n",
              "  <thead>\n",
              "    <tr style=\"text-align: right;\">\n",
              "      <th></th>\n",
              "      <th>PRX</th>\n",
              "      <th>ANH</th>\n",
              "      <th>NPN</th>\n",
              "      <th>BTI</th>\n",
              "      <th>GLN</th>\n",
              "      <th>CFR</th>\n",
              "      <th>BHG</th>\n",
              "      <th>AGL</th>\n",
              "      <th>AMS</th>\n",
              "      <th>FSR</th>\n",
              "      <th>...</th>\n",
              "      <th>PPH</th>\n",
              "      <th>OMU</th>\n",
              "      <th>BVT</th>\n",
              "      <th>CLS</th>\n",
              "      <th>REM</th>\n",
              "      <th>MCG</th>\n",
              "      <th>MRP</th>\n",
              "      <th>ARI</th>\n",
              "      <th>WHL</th>\n",
              "      <th>EXX</th>\n",
              "    </tr>\n",
              "    <tr>\n",
              "      <th>Date</th>\n",
              "      <th></th>\n",
              "      <th></th>\n",
              "      <th></th>\n",
              "      <th></th>\n",
              "      <th></th>\n",
              "      <th></th>\n",
              "      <th></th>\n",
              "      <th></th>\n",
              "      <th></th>\n",
              "      <th></th>\n",
              "      <th></th>\n",
              "      <th></th>\n",
              "      <th></th>\n",
              "      <th></th>\n",
              "      <th></th>\n",
              "      <th></th>\n",
              "      <th></th>\n",
              "      <th></th>\n",
              "      <th></th>\n",
              "      <th></th>\n",
              "      <th></th>\n",
              "    </tr>\n",
              "  </thead>\n",
              "  <tbody>\n",
              "    <tr>\n",
              "      <th>2022-01-03</th>\n",
              "      <td>131583.0</td>\n",
              "      <td>99655.0</td>\n",
              "      <td>251152.0</td>\n",
              "      <td>59140.0</td>\n",
              "      <td>8126.0</td>\n",
              "      <td>23792.0</td>\n",
              "      <td>48958.0</td>\n",
              "      <td>64497.0</td>\n",
              "      <td>180356.0</td>\n",
              "      <td>6142.0</td>\n",
              "      <td>...</td>\n",
              "      <td>2205.0</td>\n",
              "      <td>1328.0</td>\n",
              "      <td>19076.0</td>\n",
              "      <td>31931.0</td>\n",
              "      <td>13214.0</td>\n",
              "      <td>12186.0</td>\n",
              "      <td>20033.0</td>\n",
              "      <td>22775.0</td>\n",
              "      <td>5206.0</td>\n",
              "      <td>15530.0</td>\n",
              "    </tr>\n",
              "    <tr>\n",
              "      <th>2022-01-04</th>\n",
              "      <td>133844.0</td>\n",
              "      <td>102603.0</td>\n",
              "      <td>257250.0</td>\n",
              "      <td>60300.0</td>\n",
              "      <td>8429.0</td>\n",
              "      <td>24520.0</td>\n",
              "      <td>48839.0</td>\n",
              "      <td>67220.0</td>\n",
              "      <td>185807.0</td>\n",
              "      <td>6155.0</td>\n",
              "      <td>...</td>\n",
              "      <td>2247.0</td>\n",
              "      <td>1368.0</td>\n",
              "      <td>19000.0</td>\n",
              "      <td>31919.0</td>\n",
              "      <td>13288.0</td>\n",
              "      <td>12028.0</td>\n",
              "      <td>20115.0</td>\n",
              "      <td>23619.0</td>\n",
              "      <td>5239.0</td>\n",
              "      <td>15984.0</td>\n",
              "    </tr>\n",
              "    <tr>\n",
              "      <th>2022-01-05</th>\n",
              "      <td>129547.0</td>\n",
              "      <td>100445.0</td>\n",
              "      <td>248359.0</td>\n",
              "      <td>59821.0</td>\n",
              "      <td>8369.0</td>\n",
              "      <td>24437.0</td>\n",
              "      <td>49892.0</td>\n",
              "      <td>67774.0</td>\n",
              "      <td>186215.0</td>\n",
              "      <td>6262.0</td>\n",
              "      <td>...</td>\n",
              "      <td>2275.0</td>\n",
              "      <td>1366.0</td>\n",
              "      <td>18990.0</td>\n",
              "      <td>31821.0</td>\n",
              "      <td>13370.0</td>\n",
              "      <td>12336.0</td>\n",
              "      <td>20040.0</td>\n",
              "      <td>24350.0</td>\n",
              "      <td>5239.0</td>\n",
              "      <td>16371.0</td>\n",
              "    </tr>\n",
              "    <tr>\n",
              "      <th>2022-01-06</th>\n",
              "      <td>124912.0</td>\n",
              "      <td>98505.0</td>\n",
              "      <td>239529.0</td>\n",
              "      <td>60300.0</td>\n",
              "      <td>8266.0</td>\n",
              "      <td>23944.0</td>\n",
              "      <td>50520.0</td>\n",
              "      <td>67439.0</td>\n",
              "      <td>184615.0</td>\n",
              "      <td>6275.0</td>\n",
              "      <td>...</td>\n",
              "      <td>2275.0</td>\n",
              "      <td>1360.0</td>\n",
              "      <td>18912.0</td>\n",
              "      <td>31511.0</td>\n",
              "      <td>13301.0</td>\n",
              "      <td>12240.0</td>\n",
              "      <td>20000.0</td>\n",
              "      <td>23878.0</td>\n",
              "      <td>5217.0</td>\n",
              "      <td>16287.0</td>\n",
              "    </tr>\n",
              "    <tr>\n",
              "      <th>2022-01-07</th>\n",
              "      <td>126200.0</td>\n",
              "      <td>97600.0</td>\n",
              "      <td>238904.0</td>\n",
              "      <td>59440.0</td>\n",
              "      <td>8373.0</td>\n",
              "      <td>23428.0</td>\n",
              "      <td>51228.0</td>\n",
              "      <td>68635.0</td>\n",
              "      <td>183451.0</td>\n",
              "      <td>6293.0</td>\n",
              "      <td>...</td>\n",
              "      <td>2290.0</td>\n",
              "      <td>1358.0</td>\n",
              "      <td>18960.0</td>\n",
              "      <td>31250.0</td>\n",
              "      <td>13157.0</td>\n",
              "      <td>12009.0</td>\n",
              "      <td>19830.0</td>\n",
              "      <td>23815.0</td>\n",
              "      <td>5230.0</td>\n",
              "      <td>16167.0</td>\n",
              "    </tr>\n",
              "  </tbody>\n",
              "</table>\n",
              "<p>5 rows × 40 columns</p>\n",
              "</div>\n",
              "      <button class=\"colab-df-convert\" onclick=\"convertToInteractive('df-f3dbd031-2fb4-4e10-9d9f-274a2cdca5e6')\"\n",
              "              title=\"Convert this dataframe to an interactive table.\"\n",
              "              style=\"display:none;\">\n",
              "        \n",
              "  <svg xmlns=\"http://www.w3.org/2000/svg\" height=\"24px\"viewBox=\"0 0 24 24\"\n",
              "       width=\"24px\">\n",
              "    <path d=\"M0 0h24v24H0V0z\" fill=\"none\"/>\n",
              "    <path d=\"M18.56 5.44l.94 2.06.94-2.06 2.06-.94-2.06-.94-.94-2.06-.94 2.06-2.06.94zm-11 1L8.5 8.5l.94-2.06 2.06-.94-2.06-.94L8.5 2.5l-.94 2.06-2.06.94zm10 10l.94 2.06.94-2.06 2.06-.94-2.06-.94-.94-2.06-.94 2.06-2.06.94z\"/><path d=\"M17.41 7.96l-1.37-1.37c-.4-.4-.92-.59-1.43-.59-.52 0-1.04.2-1.43.59L10.3 9.45l-7.72 7.72c-.78.78-.78 2.05 0 2.83L4 21.41c.39.39.9.59 1.41.59.51 0 1.02-.2 1.41-.59l7.78-7.78 2.81-2.81c.8-.78.8-2.07 0-2.86zM5.41 20L4 18.59l7.72-7.72 1.47 1.35L5.41 20z\"/>\n",
              "  </svg>\n",
              "      </button>\n",
              "      \n",
              "  <style>\n",
              "    .colab-df-container {\n",
              "      display:flex;\n",
              "      flex-wrap:wrap;\n",
              "      gap: 12px;\n",
              "    }\n",
              "\n",
              "    .colab-df-convert {\n",
              "      background-color: #E8F0FE;\n",
              "      border: none;\n",
              "      border-radius: 50%;\n",
              "      cursor: pointer;\n",
              "      display: none;\n",
              "      fill: #1967D2;\n",
              "      height: 32px;\n",
              "      padding: 0 0 0 0;\n",
              "      width: 32px;\n",
              "    }\n",
              "\n",
              "    .colab-df-convert:hover {\n",
              "      background-color: #E2EBFA;\n",
              "      box-shadow: 0px 1px 2px rgba(60, 64, 67, 0.3), 0px 1px 3px 1px rgba(60, 64, 67, 0.15);\n",
              "      fill: #174EA6;\n",
              "    }\n",
              "\n",
              "    [theme=dark] .colab-df-convert {\n",
              "      background-color: #3B4455;\n",
              "      fill: #D2E3FC;\n",
              "    }\n",
              "\n",
              "    [theme=dark] .colab-df-convert:hover {\n",
              "      background-color: #434B5C;\n",
              "      box-shadow: 0px 1px 3px 1px rgba(0, 0, 0, 0.15);\n",
              "      filter: drop-shadow(0px 1px 2px rgba(0, 0, 0, 0.3));\n",
              "      fill: #FFFFFF;\n",
              "    }\n",
              "  </style>\n",
              "\n",
              "      <script>\n",
              "        const buttonEl =\n",
              "          document.querySelector('#df-f3dbd031-2fb4-4e10-9d9f-274a2cdca5e6 button.colab-df-convert');\n",
              "        buttonEl.style.display =\n",
              "          google.colab.kernel.accessAllowed ? 'block' : 'none';\n",
              "\n",
              "        async function convertToInteractive(key) {\n",
              "          const element = document.querySelector('#df-f3dbd031-2fb4-4e10-9d9f-274a2cdca5e6');\n",
              "          const dataTable =\n",
              "            await google.colab.kernel.invokeFunction('convertToInteractive',\n",
              "                                                     [key], {});\n",
              "          if (!dataTable) return;\n",
              "\n",
              "          const docLinkHtml = 'Like what you see? Visit the ' +\n",
              "            '<a target=\"_blank\" href=https://colab.research.google.com/notebooks/data_table.ipynb>data table notebook</a>'\n",
              "            + ' to learn more about interactive tables.';\n",
              "          element.innerHTML = '';\n",
              "          dataTable['output_type'] = 'display_data';\n",
              "          await google.colab.output.renderOutput(dataTable, element);\n",
              "          const docLink = document.createElement('div');\n",
              "          docLink.innerHTML = docLinkHtml;\n",
              "          element.appendChild(docLink);\n",
              "        }\n",
              "      </script>\n",
              "    </div>\n",
              "  </div>\n",
              "  "
            ]
          },
          "metadata": {},
          "execution_count": 4
        }
      ],
      "source": [
        "df = pd.read_csv(filename,index_col='Date')\n",
        "df.head()"
      ]
    },
    {
      "cell_type": "markdown",
      "metadata": {
        "deletable": false,
        "editable": false,
        "nbgrader": {
          "cell_type": "markdown",
          "checksum": "7bb3a1f49c4183ceb8405e764a48da0a",
          "grade": false,
          "grade_id": "cell-cf0ffa9601dc8fd6",
          "locked": true,
          "schema_version": 3,
          "solution": false,
          "task": false
        },
        "id": "RpWZCOxbKdQ2"
      },
      "source": [
        "## A plot of the top stock"
      ]
    },
    {
      "cell_type": "code",
      "execution_count": 5,
      "metadata": {
        "deletable": false,
        "editable": false,
        "nbgrader": {
          "cell_type": "code",
          "checksum": "7264450b11119079916f77fd59543ccd",
          "grade": false,
          "grade_id": "cell-6904f3e330962b48",
          "locked": true,
          "schema_version": 3,
          "solution": false,
          "task": false
        },
        "id": "f7_Iht3-KdQ3",
        "outputId": "c8d9f18a-6ee8-4433-91b5-91056d565219",
        "colab": {
          "base_uri": "https://localhost:8080/",
          "height": 585
        }
      },
      "outputs": [
        {
          "output_type": "execute_result",
          "data": {
            "text/plain": [
              "Text(0, 0.5, 'Stock Price, ZAR')"
            ]
          },
          "metadata": {},
          "execution_count": 5
        },
        {
          "output_type": "display_data",
          "data": {
            "text/plain": [
              "<Figure size 1152x648 with 1 Axes>"
            ],
            "image/png": "[encoded data removed]"
          },
          "metadata": {
            "needs_background": "light"
          }
        }
      ],
      "source": [
        "df.PRX.plot(figsize = (16,9),linewidth=4)\n",
        "plt.grid()\n",
        "plt.title(\"JSE Performance Company - PRX\")\n",
        "plt.ylabel(\"Stock Price, ZAR\")"
      ]
    },
    {
      "cell_type": "markdown",
      "metadata": {
        "id": "7ejRR5uUKdQ4"
      },
      "source": [
        "## 1 Stock Portfolio Allocation\n",
        "\n",
        "It is well known that the stock market is erratic, dynamic, and nonlinear. Because of several (macro and micro) variables, including politics, international economic conditions, unforeseen occurrences, a company's financial performance, and others, it is very difficult to anticipate stock prices accurately.\n",
        "\n",
        "It also means that there is a lot of data to look for patterns in as a result of all of this. In order to identify stock market patterns, financial analysts, academics, and data scientists continue to investigate analytics tools. This gave rise to the idea of algorithmic trading, which executes orders through the use of automated, pre-programmed trading techniques.\n",
        "\n",
        " In this notebook we will take a look at this problem through trying to put together a stock portfolio that would have done well through the latter shock of COVID19 in Q1 2021. \n",
        "\n",
        "\n",
        "For this problem, we will start with a weighting of the stocks. Use the `np.random.rand` function to create a random weighting for `num_dim` stocks. The weighting should always add up to 1.0 so you must adjust for this. "
      ]
    },
    {
      "cell_type": "code",
      "execution_count": 6,
      "metadata": {
        "deletable": false,
        "nbgrader": {
          "cell_type": "code",
          "checksum": "7628c294a3e5e40d4819335ddc470c92",
          "grade": false,
          "grade_id": "weighting_answer",
          "locked": false,
          "schema_version": 3,
          "solution": true,
          "task": false
        },
        "id": "NewMFfSPKdQ4"
      },
      "outputs": [],
      "source": [
        "def initialise_weighting(num_dim):\n",
        "  rand_list = []\n",
        "  weighting = []\n",
        "  Sum = []\n",
        "  total = 0\n",
        "  for i in range(num_dim):\n",
        "    rand_list.append(np.random.rand())\n",
        "  Sum = sum(rand_list)\n",
        "  for j in range(num_dim):\n",
        "    weighting.append(rand_list[j]/Sum)\n",
        "  return weighting"
      ]
    },
    {
      "cell_type": "code",
      "execution_count": 7,
      "metadata": {
        "deletable": false,
        "editable": false,
        "nbgrader": {
          "cell_type": "code",
          "checksum": "1eec8580d9e90b060bb21042296c8091",
          "grade": true,
          "grade_id": "weighting_test",
          "locked": true,
          "points": 2,
          "schema_version": 3,
          "solution": false,
          "task": false
        },
        "id": "Qpq85yaoKdQ5"
      },
      "outputs": [],
      "source": [
        "num_dim = 10\n",
        "weighting = initialise_weighting(num_dim)\n",
        "assert len(weighting) == 10\n",
        "assert np.sum(weighting) < 1.00000001\n",
        "assert np.sum(weighting) > 0.99999999"
      ]
    },
    {
      "cell_type": "markdown",
      "metadata": {
        "deletable": false,
        "editable": false,
        "nbgrader": {
          "cell_type": "markdown",
          "checksum": "87b02322f2de04f951080bdebf52aa9b",
          "grade": false,
          "grade_id": "cell-a298de0427b17cd4",
          "locked": true,
          "schema_version": 3,
          "solution": false,
          "task": false
        },
        "id": "M9cLEkrcKdQ6"
      },
      "source": [
        "\n",
        "\n",
        "We now need to calculate the amount of allocated money to each stock and then calculate how many stocks would have been purchased per specific day.\n",
        "\n",
        "**Note**: We are assuming we are buying an instrument such as an ETF, so we can buy fractions of stocks. "
      ]
    },
    {
      "cell_type": "code",
      "execution_count": 8,
      "metadata": {
        "deletable": false,
        "nbgrader": {
          "cell_type": "code",
          "checksum": "41853574f3f7f60dd1fcb353502917ba",
          "grade": false,
          "grade_id": "cell-8f362ba98aeea8af",
          "locked": false,
          "schema_version": 3,
          "solution": true,
          "task": false
        },
        "id": "cCk3TwxeKdQ6"
      },
      "outputs": [],
      "source": [
        "def adjust_stocks_by_weighting(budget, weighting, stock_prices):\n",
        "  \n",
        "  stock = [weight*budget for weight in weighting]\n",
        "  stock_weighting = stock/stock_prices\n",
        "  return stock_weighting\n"
      ]
    },
    {
      "cell_type": "code",
      "source": [
        "budget = 5.0\n",
        "weighting = np.array([0.2, 0.2 ,0.2 ,0.2, 0.2])\n",
        "stock_prices = np.array([1, 2, 2, 4, 5])\n",
        "stock_weighting = adjust_stocks_by_weighting(budget, weighting, stock_prices)\n",
        "print(stock_weighting)"
      ],
      "metadata": {
        "id": "7NslJdyObt15",
        "outputId": "31d13dab-84cc-425f-bf95-d5aea7dceb24",
        "colab": {
          "base_uri": "https://localhost:8080/"
        }
      },
      "execution_count": 9,
      "outputs": [
        {
          "output_type": "stream",
          "name": "stdout",
          "text": [
            "[1.   0.5  0.5  0.25 0.2 ]\n"
          ]
        }
      ]
    },
    {
      "cell_type": "code",
      "execution_count": 10,
      "metadata": {
        "deletable": false,
        "editable": false,
        "nbgrader": {
          "cell_type": "code",
          "checksum": "f22da21c9906d83b265aaf9f0a7270c5",
          "grade": true,
          "grade_id": "cell-623cf8fbc40c7d99",
          "locked": true,
          "points": 2,
          "schema_version": 3,
          "solution": false,
          "task": false
        },
        "id": "rivwUoJOKdQ6"
      },
      "outputs": [],
      "source": [
        "budget = 5.0\n",
        "weighting = np.array([0.2, 0.2 ,0.2 ,0.2, 0.2])\n",
        "stock_prices = np.array([1, 2, 2, 4, 5])\n",
        "stock_weighting = adjust_stocks_by_weighting(budget, weighting, stock_prices)\n",
        "assert len(stock_weighting) == 5\n",
        "assert stock_weighting[0] == 1.0\n",
        "assert np.isclose(stock_weighting[2],0.5,atol=0.0001)"
      ]
    },
    {
      "cell_type": "markdown",
      "metadata": {
        "deletable": false,
        "editable": false,
        "nbgrader": {
          "cell_type": "markdown",
          "checksum": "e3f2c69952b8659f79dfe79820b27b8e",
          "grade": false,
          "grade_id": "cell-51e3920ddc8bc38c",
          "locked": true,
          "schema_version": 3,
          "solution": false,
          "task": false
        },
        "id": "U2wFJg4SKdQ7"
      },
      "source": [
        "### Rules for our stock picking problem\n",
        "\n",
        "1. Every stock has its own cost that is charged per stock per month\n",
        "2. Every run of this algorithm will have a different budget given to you\n",
        "3. Non linearities are introduced by having different tiered costs added in [e.g. having more than 10 stocks in your portfolio has extra costs added per month, as well as having more then 20 etc.]\n",
        "4. We are going to assume costs are calculated daily and adjusted by the number of days in the year. Then summed. \n",
        "\n",
        "### 1.3 Calculating values and costs\n",
        "\n",
        "* Provide a simple calculation to give the complete value of the portfolio given the stock_weighting and individual stock prices. This should be implemented in `portfolio_value`\n",
        "* Calculate the cost of the porfolio given values for a specifi. Assume a \n",
        "    * *2%* per share per annum cost for up to 5 shares, \n",
        "    * *1%* per share per annum for 10 Shares (we have more than 5 unique shares, but less than 11), \n",
        "    * *0.75%* per share per annum for up to 20 shares,\n",
        "    * and a 50% cost per share per annum for more than 20 shares in the portfolio (having more then 20). \n",
        "Implement this in `portfolio_costs`    "
      ]
    },
    {
      "cell_type": "code",
      "execution_count": 11,
      "metadata": {
        "deletable": false,
        "nbgrader": {
          "cell_type": "code",
          "checksum": "045dd6e8e3cae86c2be3f5afefa132d4",
          "grade": false,
          "grade_id": "value_and_costs",
          "locked": false,
          "schema_version": 3,
          "solution": true
        },
        "id": "fuyNAFubKdQ7"
      },
      "outputs": [],
      "source": [
        "def portfolio_value(stock_weighting, stock_prices):\n",
        "    stock_prices = np.nan_to_num(stock_prices)\n",
        "    value = 0\n",
        "    for i  in range(len(stock_prices)):\n",
        "      value += stock_prices[i]*stock_weighting[i]    \n",
        "    return value\n",
        "\n",
        "def portfolio_costs(stock_weighting, period_stock_values):\n",
        "    num_unique_stocks = len(stock_weighting) ## How many unique shares do you have.\n",
        "\n",
        "    daily_cost = []\n",
        "    for day_stock_value in period_stock_values:\n",
        "        day_stock_value  = np.nan_to_num(day_stock_value)\n",
        "        if num_unique_stocks <= 5:\n",
        "          daily_cost.append(0.02*portfolio_value(stock_weighting,day_stock_value))    \n",
        "        if num_unique_stocks > 5 and num_unique_stocks <= 10: \n",
        "          daily_cost.append(0.01*portfolio_value(stock_weighting,day_stock_value))  \n",
        "        if num_unique_stocks > 10 and num_unique_stocks <= 20: \n",
        "          daily_cost.append(0.0075*portfolio_value(stock_weighting,day_stock_value))  \n",
        "        if num_unique_stocks > 20:\n",
        "          daily_cost.append(0.5*portfolio_value(stock_weighting,day_stock_value))       \n",
        "\n",
        "    full_cost = np.sum(daily_cost)/365.0\n",
        "    return full_cost"
      ]
    },
    {
      "cell_type": "code",
      "execution_count": 12,
      "metadata": {
        "deletable": false,
        "editable": false,
        "nbgrader": {
          "cell_type": "code",
          "checksum": "8bd0426bcd912acf7f077a9260c1c2e4",
          "grade": true,
          "grade_id": "value_and_costs_test",
          "locked": true,
          "points": 5,
          "schema_version": 3,
          "solution": false
        },
        "id": "GnhgzJTBKdQ8"
      },
      "outputs": [],
      "source": [
        "stock_weighting = np.array([1, 1, 1, 1, 1, 1, 1, 1, 1, 1])\n",
        "stock_price = np.array([1, 1, 1, 1, 1, 1, 1, 1, 1, 1]) \n",
        "value = portfolio_value(stock_weighting, stock_price)\n",
        "assert np.isclose(value,10.0,atol=0.001)\n",
        "\n",
        "stock_weighting = np.array([1, 1, 1, 1, 1, 1, 1, 1, 1, 1])\n",
        "period_stock_values = np.array([[1, 1, 1, 1, 1, 1, 1, 1, 1, 1], [1, 1, 1, 1, 1, 1, 1, 1, 1, 1]]) # 2 Days\n",
        "full_cost = portfolio_costs(stock_weighting,period_stock_values)\n",
        "assert np.isclose(full_cost,0.02/365,atol=0.001)\n",
        "\n",
        "stock_weighting = np.array([0.25, 3.0, 1])\n",
        "period_stock_values = np.array([[100, 50, 75],[101, 44, 69],[99, 55, 68]]) # 3 Days\n",
        "full_cost = portfolio_costs(stock_weighting,period_stock_values)\n",
        "assert np.isclose(full_cost,0.04022,atol=0.0201)\n",
        "\n"
      ]
    },
    {
      "cell_type": "markdown",
      "metadata": {
        "deletable": false,
        "editable": false,
        "nbgrader": {
          "cell_type": "markdown",
          "checksum": "9d870c878fc1243f2bb36632656d9e96",
          "grade": false,
          "grade_id": "cell-de6d761e32a70c1c",
          "locked": true,
          "schema_version": 3,
          "solution": false
        },
        "id": "E4tG_s01KdQ8"
      },
      "source": [
        "## 2 Genetic Algorithm\n",
        "\n",
        "\n",
        "### 2.1 Chromosome and populaton\n",
        "\n"
      ]
    },
    {
      "cell_type": "code",
      "execution_count": 13,
      "metadata": {
        "deletable": false,
        "editable": false,
        "nbgrader": {
          "cell_type": "code",
          "checksum": "3e585ea0b3d82501cd5187dc39e46c2c",
          "grade": false,
          "grade_id": "genetic_algorithm_initialise",
          "locked": true,
          "schema_version": 3,
          "solution": false,
          "task": false
        },
        "id": "cQ4rMlSJKdQ8"
      },
      "outputs": [],
      "source": [
        "def initialise_chromosome(chromosome_size):\n",
        "    chromosome = initialise_weighting(chromosome_size)\n",
        "    return chromosome\n",
        "def initialise_population(population_size, chromosome_size):\n",
        "    population = []\n",
        "    for i in range(population_size):\n",
        "        population.append(initialise_chromosome(chromosome_size))\n",
        "    return population"
      ]
    },
    {
      "cell_type": "code",
      "source": [
        "num_stocks = 40\n",
        "chromosome = initialise_chromosome(num_stocks)\n",
        "print(chromosome)\n",
        "population_size =10\n",
        "population = initialise_population(population_size, num_stocks)"
      ],
      "metadata": {
        "colab": {
          "base_uri": "https://localhost:8080/"
        },
        "id": "5oxvY-PoZzmV",
        "outputId": "c9dddc68-e681-4bb8-cd7b-6c090cf6a6cf"
      },
      "execution_count": 14,
      "outputs": [
        {
          "output_type": "stream",
          "name": "stdout",
          "text": [
            "[0.0024920614805927998, 0.04959278271820462, 0.004393498248290819, 0.013780634457966755, 0.03845114542826587, 0.023863770704381795, 0.0191716434585747, 0.0321202169293795, 0.019119226914256406, 0.007288385649005666, 0.021253528721078722, 0.025645713033133195, 0.02290542008441779, 0.04252234274679775, 0.022282870589701072, 0.0014597136209538617, 0.028390829932705513, 0.02377609497373858, 0.01525159497812211, 0.013361035431370887, 0.025836883196585156, 0.00437152777374597, 0.028375690490216734, 0.036166949714846595, 0.051150997019544564, 0.02361386562950705, 0.035937429568676627, 0.017962085954964416, 0.04331412183677072, 0.04368538521918099, 0.0472399818904362, 0.014565047789532047, 0.03641998976457794, 0.009090555844424603, 0.02124500691105762, 0.018239472012704094, 0.04031672441104057, 0.0064940521574361355, 0.0514494148772553, 0.01740230783655823]\n"
          ]
        }
      ]
    },
    {
      "cell_type": "markdown",
      "metadata": {
        "id": "1IDbdl0oKdQ9"
      },
      "source": [
        "### 2.2 Calculate fitness\n",
        "\n",
        "Fitness the is potfolio value on the last day at hand, and the cost is the total cost since buying the stock. "
      ]
    },
    {
      "cell_type": "code",
      "execution_count": 15,
      "metadata": {
        "deletable": false,
        "editable": false,
        "nbgrader": {
          "cell_type": "code",
          "checksum": "a9b974953ca9ee9cda3e638c72ffe67b",
          "grade": false,
          "grade_id": "cell-39a54340a622fae1",
          "locked": true,
          "schema_version": 3,
          "solution": false,
          "task": false
        },
        "id": "AcDYNG-fKdQ9"
      },
      "outputs": [],
      "source": [
        "def calculate_fitness(population, budget, stock_prices_timeline):\n",
        "    fitness_list = []\n",
        "    for chromosome in population:\n",
        "        # Weighting at the beginning of the period\n",
        "        stock_weighting = adjust_stocks_by_weighting(budget ,chromosome, stock_prices_timeline.iloc[0].values) \n",
        "        \n",
        "        value = portfolio_value(stock_weighting, stock_prices_timeline.iloc[-1].values)\n",
        "        cost = portfolio_costs(stock_weighting, stock_prices_timeline.iloc[1:].values)\n",
        "        # Value at the end of the period\n",
        "        fitness_list.append(value - cost)\n",
        "    return fitness_list"
      ]
    },
    {
      "cell_type": "code",
      "execution_count": 16,
      "metadata": {
        "deletable": false,
        "editable": false,
        "nbgrader": {
          "cell_type": "code",
          "checksum": "d13b43580db3044e6ae9a575385da79b",
          "grade": false,
          "grade_id": "cell-941b7e8dc4f76694",
          "locked": true,
          "schema_version": 3,
          "solution": false,
          "task": false
        },
        "id": "a9enhiveKdQ9",
        "outputId": "d36c49fe-2546-491a-e38c-859cf42705dd",
        "colab": {
          "base_uri": "https://localhost:8080/"
        }
      },
      "outputs": [
        {
          "output_type": "execute_result",
          "data": {
            "text/plain": [
              "[908445.3828792028,\n",
              " 892140.0654579315,\n",
              " 898281.0630435551,\n",
              " 923084.1637532961,\n",
              " 913480.4967463965]"
            ]
          },
          "metadata": {},
          "execution_count": 16
        }
      ],
      "source": [
        "budget = 1000000\n",
        "# Stock prices from the last day of January 2022\n",
        "stock_prices_timeline = df.loc[\"2022-01-31\":]\n",
        "calculate_fitness(population, budget, stock_prices_timeline)[:5]"
      ]
    },
    {
      "cell_type": "markdown",
      "metadata": {
        "id": "ZWl40qm7KdQ-"
      },
      "source": [
        "### 2.3 Selection. Pairing, Crossover and Mutation\n",
        "\n",
        "This is were the magic happens. We will be giving the selection and pairing code. We must implement the child generation and mutation code."
      ]
    },
    {
      "cell_type": "code",
      "execution_count": 17,
      "metadata": {
        "deletable": false,
        "editable": false,
        "nbgrader": {
          "cell_type": "code",
          "checksum": "c95aebf3a51b542d1b30ba156c74a5d9",
          "grade": false,
          "grade_id": "cell-246bac1128931982",
          "locked": true,
          "schema_version": 3,
          "solution": false,
          "task": false
        },
        "id": "TeBTD_W9KdQ-"
      },
      "outputs": [],
      "source": [
        "def selection(population, fitness_list):\n",
        "    ## Select the top half of the best of the population\n",
        "    population = np.array(population)\n",
        "    sorted_indices = np.argsort(fitness_list)\n",
        "    selection_point = int(1+ len(fitness_list)/2)\n",
        "    \n",
        "    # Randomply permute this top half of the poulation\n",
        "    indices = np.random.choice(sorted_indices[selection_point:], len(population))\n",
        "    best_population = population[indices]\n",
        "    return best_population\n",
        "\n",
        "def pairing(selected_population):\n",
        "    ## pair up parents that will be used to reproduce\n",
        "    count = 0\n",
        "    pairs = []\n",
        "    while count < len(selected_population)-1:\n",
        "        index = count\n",
        "        pairs.append([selected_population[index],selected_population[index+1]])\n",
        "        count +=2\n",
        "    return pairs"
      ]
    },
    {
      "cell_type": "markdown",
      "metadata": {
        "deletable": false,
        "editable": false,
        "nbgrader": {
          "cell_type": "markdown",
          "checksum": "62f29a76a120186d44d5a1063ed7b5f5",
          "grade": false,
          "grade_id": "cell-5a01ae00541bb3f9",
          "locked": true,
          "schema_version": 3,
          "solution": false,
          "task": false
        },
        "id": "mlUC-bA6KdQ-"
      },
      "source": [
        "### 2.3.1 Create child, reproduce \n",
        "\n",
        "Implement the child generation.  We will use a weighted average cross over. \n",
        "\n",
        "An example is shown below\n",
        "\n",
        "**Step 1:**\n",
        "\n",
        "Parent_A - [0.2, 0.2, 0.2, 0.2, 0.2]\n",
        "\n",
        "Parent_B - [0.4, 0.1, 0.1, 0.2, 0.2]\n",
        "\n",
        "**Step 2:** Randomly Weighted Average Between parents to create a child\n",
        "\n",
        "Draw weight for A randomly from 0 to 1 (use np.random.uniform()) \n",
        "\n",
        "e.g. **a_weight** = 0.5\n",
        "\n",
        "> **b_weight** = 1.0 - **a_weight**. \n",
        "\n",
        "In ths example **b_weight** =0.5\n",
        "\n",
        "\n",
        "Child - **a_weight** x Parent_A + **b_weight** x Parent_B\n",
        "\n",
        "**Finally:**\n",
        "\n",
        "Child - [0.3, 0.15, 0.15, 0.2, 0.2]"
      ]
    },
    {
      "cell_type": "code",
      "execution_count": 18,
      "metadata": {
        "deletable": false,
        "nbgrader": {
          "cell_type": "code",
          "checksum": "7b0d9402e90657059c49f95d83d1fc2e",
          "grade": false,
          "grade_id": "genetic_algorithm_reproduction",
          "locked": false,
          "schema_version": 3,
          "solution": true
        },
        "id": "ltQYg65eKdQ-"
      },
      "outputs": [],
      "source": [
        "def create_child(a,b):\n",
        "    child = []\n",
        "    a_weight =np.random.uniform() \n",
        "    b_weight = 1 - a_weight\n",
        "    child = a_weight*a + b_weight*b\n",
        "    return child\n",
        "\n",
        "def cross_over(pairs):    \n",
        "    final_population = []\n",
        "    for a,b in pairs:\n",
        "        child = create_child(a,b)\n",
        "        final_population.append(child)\n",
        "        child = create_child(b,a)\n",
        "        final_population.append(child)\n",
        "    return final_population\n"
      ]
    },
    {
      "cell_type": "code",
      "execution_count": 19,
      "metadata": {
        "deletable": false,
        "editable": false,
        "nbgrader": {
          "cell_type": "code",
          "checksum": "f3cb65a6838d1b6621fbc515f3c84f02",
          "grade": true,
          "grade_id": "genetic_algorithm_reproduction_test",
          "locked": true,
          "points": 3,
          "schema_version": 3,
          "solution": false
        },
        "id": "FaxFVJi1KdQ_"
      },
      "outputs": [],
      "source": [
        "pairs = [[np.array([0.1,0.5,0.4]),np.array([0.2,0.3,0.5])]]\n",
        "child = create_child(pairs[0][0],pairs[0][1])\n",
        "assert len(child) == 3\n",
        "assert np.sum(child) == 1.0\n",
        "assert np.max(child) <= 1.0\n",
        "assert np.min(child) >= 0.0"
      ]
    },
    {
      "cell_type": "markdown",
      "metadata": {
        "deletable": false,
        "editable": false,
        "nbgrader": {
          "cell_type": "markdown",
          "checksum": "12ac928d76059bcf2a72d5a558239815",
          "grade": false,
          "grade_id": "cell-e799018f010cf7cf",
          "locked": true,
          "schema_version": 3,
          "solution": false,
          "task": false
        },
        "id": "nCgGH_XJKdQ_"
      },
      "source": [
        "### 2.3.2 Mutation\n",
        "will get as input a population of chrosmosomes. For each chromosome, We can can add noise to the whole chromosome. Control the amount of noise using a scale factor. \n",
        "\n",
        "\n",
        "*Input:* Population of chromosomes\n",
        "*Output:* Population of chromosomes that had added noise. And then normalised to add back to one. "
      ]
    },
    {
      "cell_type": "code",
      "source": [
        "def mutation(population, scale_factor=0.05):\n",
        "  final_population = []\n",
        "  chromosone_list = []\n",
        "  for chromosone in population:\n",
        "    chromosone_list = []\n",
        "    Sum = 0\n",
        "    for gene in chromosone:\n",
        "      gene_noise = abs(np.random.normal(gene, 0.01))\n",
        "      chromosone_list.append(gene_noise)\n",
        "    Sum = sum(chromosone_list)\n",
        "    chromosone_list = np.array(chromosone_list)/Sum\n",
        "    final_population.append(chromosone_list)\n",
        "  return final_population"
      ],
      "metadata": {
        "id": "HleQECKIie2w"
      },
      "execution_count": 20,
      "outputs": []
    },
    {
      "cell_type": "code",
      "execution_count": 21,
      "metadata": {
        "deletable": false,
        "editable": false,
        "nbgrader": {
          "cell_type": "code",
          "checksum": "414be541267053f1ce81c720c5af4238",
          "grade": true,
          "grade_id": "genetic_algorithm_mutation_test",
          "locked": true,
          "points": 3,
          "schema_version": 3,
          "solution": false
        },
        "id": "eMu3Y2mOKdQ_"
      },
      "outputs": [],
      "source": [
        "population = [[0,1]]\n",
        "output = mutation(population)\n",
        "assert len(output) == 1\n",
        "assert len(output[0]) == 2\n",
        "assert np.isclose(np.sum(output[0]),1.0)\n",
        "assert output[0][0] != population[0][0]\n",
        "population = [[0,0.4,0.6]]\n",
        "output = mutation(population)\n",
        "assert len(output) == 1\n",
        "assert len(output[0]) == 3\n",
        "assert np.isclose(np.sum(output[0]),1.0)\n",
        "assert output[0][0]  > 0"
      ]
    },
    {
      "cell_type": "markdown",
      "metadata": {
        "id": "QFl3iNPeKdQ_"
      },
      "source": [
        "### 2.3.3 Putting it all together"
      ]
    },
    {
      "cell_type": "code",
      "execution_count": 22,
      "metadata": {
        "id": "-OBOgUwrKdRA"
      },
      "outputs": [],
      "source": [
        "num_stocks = 40\n",
        "population_size = 100\n",
        "num_iterations = 1000\n",
        "budget = 1000000\n",
        "# Stock prices from the last day of January 2022\n",
        "stock_prices_timeline = df.loc[\"2022-01-31\":]"
      ]
    },
    {
      "cell_type": "code",
      "execution_count": 23,
      "metadata": {
        "deletable": false,
        "editable": false,
        "nbgrader": {
          "cell_type": "code",
          "checksum": "4c531b4c7c0eaa29fba0ab9bdb2398f1",
          "grade": false,
          "grade_id": "cell-81c838ead59bec89",
          "locked": true,
          "schema_version": 3,
          "solution": false,
          "task": false
        },
        "id": "fbQoR4mNKdRA",
        "colab": {
          "base_uri": "https://localhost:8080/"
        },
        "outputId": "8f2bd039-e0ec-4d1a-8ec4-543421a0482b"
      },
      "outputs": [
        {
          "output_type": "stream",
          "name": "stdout",
          "text": [
            "Distances:  [1005904.9119491238, 1003561.2273852564, 979401.8528526095, 1010896.7468484606, 1016946.7560905867]\n",
            "Population:  [array([0.02216959, 0.01184332, 0.02149121, 0.01787432, 0.0659957 ,\n",
            "       0.00081854, 0.00822939, 0.00774984, 0.01041315, 0.01602209,\n",
            "       0.03008168, 0.04088487, 0.028152  , 0.01658171, 0.00611869,\n",
            "       0.03934435, 0.02388696, 0.00522898, 0.02660647, 0.03468364,\n",
            "       0.11230446, 0.01315974, 0.01493391, 0.01637293, 0.01002156,\n",
            "       0.00915273, 0.01214306, 0.01380781, 0.04222717, 0.01915958,\n",
            "       0.01259803, 0.02643927, 0.02168616, 0.04156281, 0.02473297,\n",
            "       0.02907483, 0.00764461, 0.01111573, 0.04549488, 0.08219124]), array([0.00675044, 0.00057537, 0.00063609, 0.02843725, 0.06657667,\n",
            "       0.00037453, 0.01497063, 0.03333894, 0.00499986, 0.03105935,\n",
            "       0.04353057, 0.00031807, 0.01883001, 0.01667985, 0.03262411,\n",
            "       0.02221189, 0.00917185, 0.01475709, 0.02485183, 0.03130085,\n",
            "       0.11769597, 0.03708372, 0.00607017, 0.03228212, 0.02414146,\n",
            "       0.01380286, 0.03254949, 0.01919911, 0.03692652, 0.00486536,\n",
            "       0.01863312, 0.03120435, 0.00380097, 0.01415868, 0.01848312,\n",
            "       0.04986108, 0.0458699 , 0.00068708, 0.00882096, 0.08186871])]\n",
            "Best chromosome:  [0.01421155 0.01208712 0.00452811 0.01946809 0.01007571 0.0051015\n",
            " 0.00141434 0.0132406  0.00158947 0.01535414 0.02018508 0.02160939\n",
            " 0.00466042 0.01643614 0.02484793 0.00567055 0.00929284 0.0057181\n",
            " 0.07079624 0.02599991 0.13893528 0.00888448 0.02436793 0.00319433\n",
            " 0.01260598 0.03513525 0.01783726 0.00446197 0.04856158 0.0024597\n",
            " 0.00934271 0.00873941 0.05414114 0.02865085 0.00225782 0.00635127\n",
            " 0.03573996 0.03142732 0.06008716 0.16453135]\n",
            "Best (shortest) distance:  1065048.8335179696\n"
          ]
        }
      ],
      "source": [
        "# Genetic Algorithm\n",
        "population= initialise_population(population_size=population_size, chromosome_size=num_stocks)\n",
        "best_performance = -1000000\n",
        "best_chromosome = []\n",
        "best_performance_history = []\n",
        "performance_history = []\n",
        "for i in range(num_iterations):\n",
        "    # Calculate the fitness of all chromosomes in the population\n",
        "    performances = calculate_fitness(population, budget, stock_prices_timeline)\n",
        "    # If the new population has the best distance, save it.\n",
        "    if np.max(performances) > best_performance:\n",
        "        best_performance = np.max(performances)\n",
        "        best = np.argmax(performances)\n",
        "        best_chromosome = population[best]\n",
        "        best_performance_history.append(best_performance)\n",
        "    performance_history.append(np.mean(performances))\n",
        "    # 1. Do selection\n",
        "    selected_population = selection(population, performances)\n",
        "    # 2. Pair the good chromosomes \n",
        "    pairs = pairing(selected_population)\n",
        "    # 3. Reproduce with cross over\n",
        "    crossed_over = cross_over(pairs)\n",
        "    # 4. Add some randomness with mutation\n",
        "    population = mutation(crossed_over)\n",
        "\n",
        "performances = calculate_fitness(population, budget, stock_prices_timeline)\n",
        "# If the new population has the best distance, save it.\n",
        "if np.max(performances) > best_performance:\n",
        "    best_performance = np.max(performances)\n",
        "    best = np.argmax(performances)\n",
        "    best_chromosome = population[best]\n",
        "    best_performance_history.append(best_performance)\n",
        "performance_history.append(np.mean(performances))\n",
        "print(\"Distances: \" ,performances[:5])\n",
        "print(\"Population: \",population[:2])\n",
        "print(\"Best chromosome: \",best_chromosome)\n",
        "print(\"Best (shortest) distance: \",best_performance)"
      ]
    },
    {
      "cell_type": "code",
      "execution_count": 24,
      "metadata": {
        "deletable": false,
        "editable": false,
        "nbgrader": {
          "cell_type": "code",
          "checksum": "0b730adb8fa0fb297d5d1640d36eef4f",
          "grade": false,
          "grade_id": "cell-dc6bfc8f025faa37",
          "locked": true,
          "schema_version": 3,
          "solution": false,
          "task": false
        },
        "id": "0a1ptLL2KdRA"
      },
      "outputs": [],
      "source": [
        "stock_weighting = adjust_stocks_by_weighting(budget ,best_chromosome, stock_prices_timeline.iloc[0].values)\n",
        "stock_weighting_avg = adjust_stocks_by_weighting(budget ,np.ones(40)/40, stock_prices_timeline.iloc[0].values)"
      ]
    },
    {
      "cell_type": "code",
      "execution_count": 25,
      "metadata": {
        "deletable": false,
        "editable": false,
        "nbgrader": {
          "cell_type": "code",
          "checksum": "8ce79730bd11045c18c5b690f53a1051",
          "grade": false,
          "grade_id": "cell-ea4f9f56add47f92",
          "locked": true,
          "schema_version": 3,
          "solution": false,
          "task": false
        },
        "id": "P5Zn9tiXKdRB",
        "colab": {
          "base_uri": "https://localhost:8080/",
          "height": 580
        },
        "outputId": "960c193b-b0a0-4960-c0ec-1f09211461b9"
      },
      "outputs": [
        {
          "output_type": "execute_result",
          "data": {
            "text/plain": [
              "<matplotlib.legend.Legend at 0x7fcb96a84ad0>"
            ]
          },
          "metadata": {},
          "execution_count": 25
        },
        {
          "output_type": "display_data",
          "data": {
            "text/plain": [
              "<Figure size 1152x648 with 1 Axes>"
            ],
            "image/png": "[encoded data removed]"
          },
          "metadata": {
            "needs_background": "light"
          }
        }
      ],
      "source": [
        "avg = stock_weighting*stock_prices_timeline\n",
        "avg.sum(axis=1).plot(figsize=(16,9), label='best chromosome',linewidth=4)\n",
        "equally = stock_weighting_avg*stock_prices_timeline\n",
        "equally.sum(axis=1).plot(figsize=(16,9), color='r', label='equally weighted',linewidth=4)\n",
        "plt.grid()\n",
        "plt.legend()"
      ]
    },
    {
      "cell_type": "code",
      "execution_count": 26,
      "metadata": {
        "deletable": false,
        "editable": false,
        "nbgrader": {
          "cell_type": "code",
          "checksum": "fa3c42bad99bc011b364f17ba815702e",
          "grade": false,
          "grade_id": "cell-3747fffc3e65c430",
          "locked": true,
          "schema_version": 3,
          "solution": false,
          "task": false
        },
        "id": "nZnpdoDrKdRC",
        "colab": {
          "base_uri": "https://localhost:8080/",
          "height": 368
        },
        "outputId": "eb0c8bbb-f7bc-4233-f0f2-9a61768fd344"
      },
      "outputs": [
        {
          "output_type": "execute_result",
          "data": {
            "text/plain": [
              "Text(0.5, 0, 'Sample number')"
            ]
          },
          "metadata": {},
          "execution_count": 26
        },
        {
          "output_type": "display_data",
          "data": {
            "text/plain": [
              "<Figure size 864x360 with 1 Axes>"
            ],
            "image/png": "[encoded data removed]"
          },
          "metadata": {
            "needs_background": "light"
          }
        }
      ],
      "source": [
        "plt.figure(figsize= (12,5))\n",
        "plt.plot(best_performance_history,linewidth=4)\n",
        "plt.title(\"History of best performance found\")\n",
        "plt.grid()\n",
        "plt.xlabel(\"Sample number\")"
      ]
    },
    {
      "cell_type": "code",
      "execution_count": 27,
      "metadata": {
        "id": "Xdh2yxMzKdRE",
        "colab": {
          "base_uri": "https://localhost:8080/",
          "height": 368
        },
        "outputId": "92fa3bf3-8059-4cf6-a144-2e051b2a80a3"
      },
      "outputs": [
        {
          "output_type": "execute_result",
          "data": {
            "text/plain": [
              "Text(0.5, 0, 'Sample number')"
            ]
          },
          "metadata": {},
          "execution_count": 27
        },
        {
          "output_type": "display_data",
          "data": {
            "text/plain": [
              "<Figure size 1008x360 with 1 Axes>"
            ],
            "image/png": "[encoded data removed]"
          },
          "metadata": {
            "needs_background": "light"
          }
        }
      ],
      "source": [
        "plt.figure(figsize= (14,5))\n",
        "plt.plot(performance_history,linewidth=2)\n",
        "plt.title(\"Explored Fitness\")\n",
        "plt.grid()\n",
        "plt.xlabel(\"Sample number\")"
      ]
    },
    {
      "cell_type": "code",
      "execution_count": 28,
      "metadata": {
        "deletable": false,
        "editable": false,
        "nbgrader": {
          "cell_type": "code",
          "checksum": "346550a6af379760aee9111c5463aaca",
          "grade": false,
          "grade_id": "cell-25c1edcc0cba1f4a",
          "locked": true,
          "schema_version": 3,
          "solution": false,
          "task": false
        },
        "id": "johwsE_wKdRF",
        "colab": {
          "base_uri": "https://localhost:8080/",
          "height": 368
        },
        "outputId": "38b4a010-c47b-4949-9d11-1f06acae9cdc"
      },
      "outputs": [
        {
          "output_type": "execute_result",
          "data": {
            "text/plain": [
              "Text(0.5, 0, 'Sample number')"
            ]
          },
          "metadata": {},
          "execution_count": 28
        },
        {
          "output_type": "display_data",
          "data": {
            "text/plain": [
              "<Figure size 1008x360 with 1 Axes>"
            ],
            "image/png": "[encoded data removed]"
          },
          "metadata": {
            "needs_background": "light"
          }
        }
      ],
      "source": [
        "plt.figure(figsize= (14,5))\n",
        "plt.plot(performance_history,linewidth=2)\n",
        "plt.title(\"History of means all performances explored\")\n",
        "plt.grid()\n",
        "plt.xlabel(\"Sample number\")"
      ]
    },
    {
      "cell_type": "markdown",
      "metadata": {
        "deletable": false,
        "nbgrader": {
          "cell_type": "markdown",
          "checksum": "108f078fe476924cc3ed93e885851b56",
          "grade": true,
          "grade_id": "cell-b18babac77be4eed",
          "locked": false,
          "points": 10,
          "schema_version": 3,
          "solution": true
        },
        "id": "yTGuG9EBKdRF"
      },
      "source": [
        "The fitness function needs to be computationaly inexpensive given the number of times it needs to be run, doing so will allow the algorithm to run faster and more efficiently. The fitness function in this case is made up of the costs function which is constructed from a number of if statements which are computationaly expensive to do.\n",
        "One way the mutation can be improved is by adjusting the scale_factor which will increase or decrease the noise applied to a chromosone, then observing its effect on the solution. One can also apply a different mutation process and instead of applying noise, one can scramble the genes, invert a subset of genes or swap select genes. Doing so does change the fitness value, fine tuning these variables will lead to an improved solution.\n",
        "\n"
      ]
    }
  ],
  "metadata": {
    "kernelspec": {
      "display_name": "Python 3 (ipykernel)",
      "language": "python",
      "name": "python3"
    },
    "language_info": {
      "codemirror_mode": {
        "name": "ipython",
        "version": 3
      },
      "file_extension": ".py",
      "mimetype": "text/x-python",
      "name": "python",
      "nbconvert_exporter": "python",
      "pygments_lexer": "ipython3",
      "version": "3.10.4"
    },
    "colab": {
      "name": "Genetic_algorithm_JSE.ipynb",
      "provenance": [],
      "include_colab_link": true
    }
  },
  "nbformat": 4,
  "nbformat_minor": 0
}